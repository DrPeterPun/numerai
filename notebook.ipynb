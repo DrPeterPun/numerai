{
 "cells": [
  {
   "cell_type": "markdown",
   "metadata": {},
   "source": [
    "# Numerai"
   ]
  },
  {
   "cell_type": "code",
   "execution_count": 7,
   "metadata": {},
   "outputs": [
    {
     "data": {
      "text/plain": [
       "['v4.1/features.json',\n",
       " 'v4.1/live.parquet',\n",
       " 'v4.1/live_example_preds.csv',\n",
       " 'v4.1/live_example_preds.parquet',\n",
       " 'v4.1/live_int8.parquet',\n",
       " 'v4.1/meta_model.parquet',\n",
       " 'v4.1/train.parquet',\n",
       " 'v4.1/train_int8.parquet',\n",
       " 'v4.1/validation.parquet',\n",
       " 'v4.1/validation_example_preds.csv',\n",
       " 'v4.1/validation_example_preds.parquet',\n",
       " 'v4.1/validation_int8.parquet']"
      ]
     },
     "execution_count": 7,
     "metadata": {},
     "output_type": "execute_result"
    }
   ],
   "source": [
    "# Initialize NumerAPI - the official Python API client for Numerai\n",
    "from numerapi import NumerAPI\n",
    "napi = NumerAPI()\n",
    "\n",
    "# Print all files available for download in the latest v4.1 dataset\n",
    "[f for f in napi.list_datasets() if f.startswith(\"v4.1\")]"
   ]
  },
  {
   "cell_type": "code",
   "execution_count": 8,
   "metadata": {},
   "outputs": [
    {
     "name": "stderr",
     "output_type": "stream",
     "text": [
      "2023-09-04 17:49:37,798 INFO numerapi.utils: starting download\n",
      "v4.1/train.parquet: 1.45GB [04:50, 5.00MB/s]                               \n",
      "2023-09-04 17:54:30,450 INFO numerapi.utils: starting download\n",
      "v4.1/features.json: 703kB [00:05, 138kB/s]                             \n"
     ]
    },
    {
     "data": {
      "text/html": [
       "<div>\n",
       "<style scoped>\n",
       "    .dataframe tbody tr th:only-of-type {\n",
       "        vertical-align: middle;\n",
       "    }\n",
       "\n",
       "    .dataframe tbody tr th {\n",
       "        vertical-align: top;\n",
       "    }\n",
       "\n",
       "    .dataframe thead th {\n",
       "        text-align: right;\n",
       "    }\n",
       "</style>\n",
       "<table border=\"1\" class=\"dataframe\">\n",
       "  <thead>\n",
       "    <tr style=\"text-align: right;\">\n",
       "      <th></th>\n",
       "      <th>era</th>\n",
       "      <th>feature_bijou_penetrant_syringa</th>\n",
       "      <th>...</th>\n",
       "      <th>feature_unventilated_sollar_bason</th>\n",
       "      <th>target</th>\n",
       "    </tr>\n",
       "    <tr>\n",
       "      <th>id</th>\n",
       "      <th></th>\n",
       "      <th></th>\n",
       "      <th></th>\n",
       "      <th></th>\n",
       "      <th></th>\n",
       "    </tr>\n",
       "  </thead>\n",
       "  <tbody>\n",
       "    <tr>\n",
       "      <th>n003bba8a98662e4</th>\n",
       "      <td>0001</td>\n",
       "      <td>0.00</td>\n",
       "      <td>...</td>\n",
       "      <td>0.00</td>\n",
       "      <td>0.25</td>\n",
       "    </tr>\n",
       "    <tr>\n",
       "      <th>n003bee128c2fcfc</th>\n",
       "      <td>0001</td>\n",
       "      <td>0.50</td>\n",
       "      <td>...</td>\n",
       "      <td>0.25</td>\n",
       "      <td>0.75</td>\n",
       "    </tr>\n",
       "    <tr>\n",
       "      <th>n0048ac83aff7194</th>\n",
       "      <td>0001</td>\n",
       "      <td>0.25</td>\n",
       "      <td>...</td>\n",
       "      <td>1.00</td>\n",
       "      <td>0.25</td>\n",
       "    </tr>\n",
       "    <tr>\n",
       "      <th>n00691bec80d3e02</th>\n",
       "      <td>0001</td>\n",
       "      <td>0.75</td>\n",
       "      <td>...</td>\n",
       "      <td>0.75</td>\n",
       "      <td>0.75</td>\n",
       "    </tr>\n",
       "    <tr>\n",
       "      <th>n00b8720a2fdc4f2</th>\n",
       "      <td>0001</td>\n",
       "      <td>0.00</td>\n",
       "      <td>...</td>\n",
       "      <td>0.00</td>\n",
       "      <td>0.50</td>\n",
       "    </tr>\n",
       "    <tr>\n",
       "      <th>...</th>\n",
       "      <td>...</td>\n",
       "      <td>...</td>\n",
       "      <td>...</td>\n",
       "      <td>...</td>\n",
       "      <td>...</td>\n",
       "    </tr>\n",
       "    <tr>\n",
       "      <th>nffcc1dbdf2212e6</th>\n",
       "      <td>0574</td>\n",
       "      <td>1.00</td>\n",
       "      <td>...</td>\n",
       "      <td>1.00</td>\n",
       "      <td>0.75</td>\n",
       "    </tr>\n",
       "    <tr>\n",
       "      <th>nffd71b7f6a128df</th>\n",
       "      <td>0574</td>\n",
       "      <td>0.75</td>\n",
       "      <td>...</td>\n",
       "      <td>0.50</td>\n",
       "      <td>0.25</td>\n",
       "    </tr>\n",
       "    <tr>\n",
       "      <th>nffde3b371d67394</th>\n",
       "      <td>0574</td>\n",
       "      <td>0.75</td>\n",
       "      <td>...</td>\n",
       "      <td>1.00</td>\n",
       "      <td>0.25</td>\n",
       "    </tr>\n",
       "    <tr>\n",
       "      <th>nfff1a1111b35e84</th>\n",
       "      <td>0574</td>\n",
       "      <td>0.25</td>\n",
       "      <td>...</td>\n",
       "      <td>0.00</td>\n",
       "      <td>0.50</td>\n",
       "    </tr>\n",
       "    <tr>\n",
       "      <th>nfff2bd38e397265</th>\n",
       "      <td>0574</td>\n",
       "      <td>1.00</td>\n",
       "      <td>...</td>\n",
       "      <td>1.00</td>\n",
       "      <td>0.75</td>\n",
       "    </tr>\n",
       "  </tbody>\n",
       "</table>\n",
       "<p>2420521 rows × 34 columns</p>\n",
       "</div>"
      ],
      "text/plain": [
       "                   era  feature_bijou_penetrant_syringa  ...  \\\n",
       "id                                                       ...   \n",
       "n003bba8a98662e4  0001                             0.00  ...   \n",
       "n003bee128c2fcfc  0001                             0.50  ...   \n",
       "n0048ac83aff7194  0001                             0.25  ...   \n",
       "n00691bec80d3e02  0001                             0.75  ...   \n",
       "n00b8720a2fdc4f2  0001                             0.00  ...   \n",
       "...                ...                              ...  ...   \n",
       "nffcc1dbdf2212e6  0574                             1.00  ...   \n",
       "nffd71b7f6a128df  0574                             0.75  ...   \n",
       "nffde3b371d67394  0574                             0.75  ...   \n",
       "nfff1a1111b35e84  0574                             0.25  ...   \n",
       "nfff2bd38e397265  0574                             1.00  ...   \n",
       "\n",
       "                  feature_unventilated_sollar_bason  target  \n",
       "id                                                           \n",
       "n003bba8a98662e4                               0.00    0.25  \n",
       "n003bee128c2fcfc                               0.25    0.75  \n",
       "n0048ac83aff7194                               1.00    0.25  \n",
       "n00691bec80d3e02                               0.75    0.75  \n",
       "n00b8720a2fdc4f2                               0.00    0.50  \n",
       "...                                             ...     ...  \n",
       "nffcc1dbdf2212e6                               1.00    0.75  \n",
       "nffd71b7f6a128df                               0.50    0.25  \n",
       "nffde3b371d67394                               1.00    0.25  \n",
       "nfff1a1111b35e84                               0.00    0.50  \n",
       "nfff2bd38e397265                               1.00    0.75  \n",
       "\n",
       "[2420521 rows x 34 columns]"
      ]
     },
     "execution_count": 8,
     "metadata": {},
     "output_type": "execute_result"
    }
   ],
   "source": [
    "import pandas as pd\n",
    "import json\n",
    "\n",
    "# Download the training data and feature metadata\n",
    "# This may take a few minutes 🍵\n",
    "napi.download_dataset(\"v4.1/train.parquet\");\n",
    "napi.download_dataset(\"v4.1/features.json\");\n",
    "\n",
    "# Load the training data but only the \"small\" subset of features to save time and memory\n",
    "# In practice you will want to use all the features to maximize your model's performance\n",
    "feature_metadata = json.load(open(\"v4.1/features.json\")) \n",
    "feature_cols = feature_metadata[\"feature_sets\"][\"small\"]\n",
    "training_data = pd.read_parquet(\"v4.1/train.parquet\", columns= [\"era\"] + feature_cols + [\"target\"]) \n",
    "\n",
    "# Print the training data\n",
    "pd.set_option('display.max_rows', 10)\n",
    "pd.set_option('display.max_columns', 5)\n",
    "training_data"
   ]
  },
  {
   "cell_type": "code",
   "execution_count": 9,
   "metadata": {},
   "outputs": [
    {
     "name": "stderr",
     "output_type": "stream",
     "text": [
      "2023-09-04 17:55:00,160 INFO matplotlib.font_manager: Failed to extract font properties from /usr/share/fonts/adobe-source-code-pro/SourceCodeVF-Upright.otf: In FT2Font: Can not load face (SFNT font table missing; error code 0x8e)\n",
      "2023-09-04 17:55:00,258 INFO matplotlib.font_manager: Failed to extract font properties from /usr/share/fonts/adobe-source-sans/SourceSansVariable-Roman.otf: In FT2Font: Can not load face (SFNT font table missing; error code 0x8e)\n",
      "2023-09-04 17:55:00,286 INFO matplotlib.font_manager: Failed to extract font properties from /usr/share/fonts/adobe-source-code-pro/SourceCodeVF-Italic.otf: In FT2Font: Can not load face (SFNT font table missing; error code 0x8e)\n",
      "2023-09-04 17:55:00,408 INFO matplotlib.font_manager: Failed to extract font properties from /usr/share/fonts/adobe-source-sans/SourceSans3VF-Upright.otf: In FT2Font: Can not load face (SFNT font table missing; error code 0x8e)\n",
      "2023-09-04 17:55:00,441 INFO matplotlib.font_manager: Failed to extract font properties from /usr/share/fonts/adobe-source-sans/SourceSans3VF-Italic.otf: In FT2Font: Can not load face (SFNT font table missing; error code 0x8e)\n",
      "2023-09-04 17:55:00,444 INFO matplotlib.font_manager: Failed to extract font properties from /usr/share/fonts/adobe-source-sans/SourceSansVariable-Italic.otf: In FT2Font: Can not load face (SFNT font table missing; error code 0x8e)\n",
      "2023-09-04 17:55:00,513 INFO matplotlib.font_manager: Failed to extract font properties from /usr/share/fonts/cantarell/Cantarell-VF.otf: In FT2Font: Can not load face (SFNT font table missing; error code 0x8e)\n",
      "2023-09-04 17:55:00,587 INFO matplotlib.font_manager: generated new fontManager\n"
     ]
    },
    {
     "data": {
      "image/png": "[encoded data removed]",
      "text/plain": [
       "<Figure size 500x300 with 1 Axes>"
      ]
     },
     "metadata": {},
     "output_type": "display_data"
    }
   ],
   "source": [
    "training_data.groupby(\"era\").size().plot(title=\"Number of Rows per Era\", figsize=(5, 3), xlabel=\"Era\");"
   ]
  },
  {
   "cell_type": "markdown",
   "metadata": {},
   "source": [
    "# Modeling\n",
    "o objetivo aqui é criar um modelo para submeter no numer.ai\n",
    "\n"
   ]
  },
  {
   "cell_type": "markdown",
   "metadata": {},
   "source": [
    "## LightGBM\n",
    "isto faz trees\n",
    "\n",
    "primeiro vou criar um modelo com as opcoes default dadas pelo numerai para ver como se sai\n"
   ]
  },
  {
   "cell_type": "code",
   "execution_count": null,
   "metadata": {},
   "outputs": [],
   "source": [
    "import lightgbm as lgb\n",
    "\n",
    "try:\n",
    "    # load aos modelos de treino se ja existir\n",
    "    model = lgb.Booster(model_file='small_lgb_tree.model');\n",
    "except lgb.basic.LightGBMError:\n",
    "    # se naoe xistir criar o modelo e gravar\n",
    "    model = lgb.LGBMRegressor(\n",
    "        n_estimators = 2000,\n",
    "        learning_rate = 0.01,\n",
    "        max_depth = 5,\n",
    "        num_leaves = 2**5,\n",
    "        colsample_bytree = 0.1\n",
    "    )\n",
    "\n",
    "    #treinar o modelo\n",
    "    model.fit(\n",
    "        training_data[feature_cols],\n",
    "        training_data[\"target\"]\n",
    "    )\n",
    "\n",
    "    # gravar o modelo\n",
    "    model.booster_.save_model(\"small_lbg_tree.model\")"
   ]
  },
  {
   "cell_type": "markdown",
   "metadata": {},
   "source": [
    "testar o modelo agora\n",
    "\n"
   ]
  },
  {
   "cell_type": "code",
   "execution_count": null,
   "metadata": {},
   "outputs": [],
   "source": [
    "# dl do dataset de validation\n",
    "napi.download_dataset(\"v4.1/validation.parquet\")\n",
    "validation_data = pd.read_parquet(\"v4.1/validation.parquet\", columns=[\"era\", \"data_type\"] + feature_cols + [\"target\"]) \n",
    "\n",
    "# load do dataset de treino\n",
    "validation_data = validation_data[validation_data[\"data_type\"] == \"validation\" ]\n",
    "del validation_data[\"data_type\"]\n",
    "\n",
    "# gerar as previsoes\n",
    "validation_data[\"prediction\"] = model.predict(validation_data[feature_cols])\n",
    "validation_data[[\"era\", \"prediction\", \"target\"]]\n"
   ]
  },
  {
   "cell_type": "markdown",
   "metadata": {},
   "source": [
    "Definir a funcao de scoring para corr\n",
    "esta é a maneira principal de scoring do numerai"
   ]
  },
  {
   "cell_type": "code",
   "execution_count": 10,
   "metadata": {},
   "outputs": [],
   "source": [
    "from scipy import stats\n",
    "import numpy as np\n",
    "\n",
    "# Numerai's primary scoring metric\n",
    "def numerai_corr(preds, target):\n",
    "    # rank (keeping ties) then gaussianize predictions to standardize prediction distributions\n",
    "    ranked_preds = (preds.rank(method=\"average\").values - 0.5) / preds.count()\n",
    "    gauss_ranked_preds = stats.norm.ppf(ranked_preds)\n",
    "    # center targets around 0\n",
    "    centered_target = target - target.mean()\n",
    "    # raise both preds and target to the power of 1.5 to accentuate the tails\n",
    "    preds_p15 = np.sign(gauss_ranked_preds) * np.abs(gauss_ranked_preds) ** 1.5\n",
    "    target_p15 = np.sign(centered_target) * np.abs(centered_target) ** 1.5\n",
    "    # finally return the Pearson correlation\n",
    "    return np.corrcoef(preds_p15, target_p15)[0, 1]"
   ]
  },
  {
   "cell_type": "code",
   "execution_count": null,
   "metadata": {},
   "outputs": [],
   "source": [
    "# correlacao /era das previsoes com o metamodelo + um plot\n",
    "\n",
    "per_era_corr = validation_data.groupby(\"era\").apply(lambda x: numerai_corr(x[\"prediction\"], x[\"target\"]))\n",
    "per_era_corr.plot(kind=\"bar\", title=\"Validation Correlation\", figsize=(10, 6), xticks=[]);"
   ]
  },
  {
   "cell_type": "code",
   "execution_count": null,
   "metadata": {},
   "outputs": [],
   "source": [
    "# Plot da corr/cummulatia / era, mais util porque permite ter nocao de \"quanto ganha\"__qualname__ \n",
    "per_era_corr.cumsum().plot(kind=\"line\", title=\"Cumulative Validation Correlation\", figsize=(10, 6));"
   ]
  },
  {
   "cell_type": "markdown",
   "metadata": {},
   "source": [
    "## XGBoost\n",
    "mesma coisa mas com xgboost\n"
   ]
  },
  {
   "cell_type": "code",
   "execution_count": null,
   "metadata": {},
   "outputs": [],
   "source": [
    "import numpy as np\n",
    "import xgboost as xgb\n",
    "\n",
    "\n",
    "# Initialize the XGBoost regression model tree\n",
    "model = xgb.XGBRegressor(\n",
    "    n_estimators = 2000,\n",
    "    learning_rate = 0.01,\n",
    "    max_depth = 5,\n",
    "    num_leaves = 2**5,\n",
    "    colsample_bytree = 0.1,\n",
    "    random_state=420,\n",
    "    tree_method='gpu_hist',\n",
    "    gpu_id= 0\n",
    "    \n",
    "    )\n",
    "\n",
    "# Train the model on the training data\n",
    "model.fit(\n",
    "    training_data[feature_cols],\n",
    "    training_data[\"target\"]\n",
    "    )\n",
    "\n",
    "# dl do dataset de validation\n",
    "napi.download_dataset(\"v4.1/validation.parquet\")\n",
    "validation_data = pd.read_parquet(\"v4.1/validation.parquet\", columns=[\"era\", \"data_type\"] + feature_cols + [\"target\"]) \n",
    "\n",
    "# load do dataset de treino\n",
    "validation_data = validation_data[validation_data[\"data_type\"] == \"validation\" ]\n",
    "del validation_data[\"data_type\"]\n",
    "\n",
    "# gerar as previsoes\n",
    "validation_data[\"prediction\"] = model.predict(validation_data[feature_cols])\n",
    "validation_data[[\"era\", \"prediction\", \"target\"]]\n",
    "\n",
    "# gravar o modelo\n",
    "model.booster_.save_model(\"small_lbg_tree.model\")"
   ]
  },
  {
   "cell_type": "code",
   "execution_count": null,
   "metadata": {},
   "outputs": [],
   "source": [
    "\n",
    "# correlacao /era das previsoes com o metamodelo + um plot\n",
    "\n",
    "per_era_corr = validation_data.groupby(\"era\").apply(lambda x: numerai_corr(x[\"prediction\"], x[\"target\"]))\n",
    "per_era_corr.plot(kind=\"bar\", title=\"Validation Correlation\", figsize=(10, 6), xticks=[]);"
   ]
  },
  {
   "cell_type": "code",
   "execution_count": null,
   "metadata": {},
   "outputs": [],
   "source": [
    "# Plot da corr/cummulatia / era, mais util porque permite ter nocao de \"quanto ganha\"__qualname__ \n",
    "per_era_corr.cumsum().plot(kind=\"line\", title=\"Cumulative Validation Correlation\", figsize=(10, 6));"
   ]
  }
 ],
 "metadata": {
  "kernelspec": {
   "display_name": "numerai",
   "language": "python",
   "name": "python3"
  },
  "language_info": {
   "codemirror_mode": {
    "name": "ipython",
    "version": 3
   },
   "file_extension": ".py",
   "mimetype": "text/x-python",
   "name": "python",
   "nbconvert_exporter": "python",
   "pygments_lexer": "ipython3",
   "version": "3.11.3"
  },
  "orig_nbformat": 4
 },
 "nbformat": 4,
 "nbformat_minor": 2
}
