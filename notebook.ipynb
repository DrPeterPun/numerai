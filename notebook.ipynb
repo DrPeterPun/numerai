{
 "cells": [
  {
   "cell_type": "markdown",
   "metadata": {},
   "source": [
    "# Numerai"
   ]
  },
  {
   "cell_type": "code",
   "execution_count": 5,
   "metadata": {},
   "outputs": [
    {
     "name": "stderr",
     "output_type": "stream",
     "text": [
      "2023-08-22 19:21:36,415 ERROR numerapi.utils: Error Connecting: HTTPSConnectionPool(host='api-tournament.numer.ai', port=443): Max retries exceeded with url: / (Caused by SSLError(SSLError(1, '[SSL: WRONG_VERSION_NUMBER] wrong version number (_ssl.c:1002)')))\n"
     ]
    },
    {
     "ename": "KeyError",
     "evalue": "'data'",
     "output_type": "error",
     "traceback": [
      "\u001b[0;31m---------------------------------------------------------------------------\u001b[0m",
      "\u001b[0;31mKeyError\u001b[0m                                  Traceback (most recent call last)",
      "Cell \u001b[0;32mIn[5], line 6\u001b[0m\n\u001b[1;32m      3\u001b[0m napi \u001b[39m=\u001b[39m NumerAPI()\n\u001b[1;32m      5\u001b[0m \u001b[39m# Print all files available for download in the latest v4.1 dataset\u001b[39;00m\n\u001b[0;32m----> 6\u001b[0m [f \u001b[39mfor\u001b[39;00m f \u001b[39min\u001b[39;00m napi\u001b[39m.\u001b[39;49mlist_datasets() \u001b[39mif\u001b[39;00m f\u001b[39m.\u001b[39mstartswith(\u001b[39m\"\u001b[39m\u001b[39mv4.1\u001b[39m\u001b[39m\"\u001b[39m)]\n",
      "File \u001b[0;32m~/Documents/numerai/lib/python3.11/site-packages/numerapi/numerapi.py:72\u001b[0m, in \u001b[0;36mNumerAPI.list_datasets\u001b[0;34m(self, round_num)\u001b[0m\n\u001b[1;32m     67\u001b[0m query \u001b[39m=\u001b[39m \u001b[39m\"\"\"\u001b[39m\n\u001b[1;32m     68\u001b[0m \u001b[39mquery ($round: Int) \u001b[39m\u001b[39m{\u001b[39m\n\u001b[1;32m     69\u001b[0m \u001b[39m    listDatasets(round: $round)\u001b[39m\n\u001b[1;32m     70\u001b[0m \u001b[39m}\u001b[39m\u001b[39m\"\"\"\u001b[39m\n\u001b[1;32m     71\u001b[0m args \u001b[39m=\u001b[39m {\u001b[39m'\u001b[39m\u001b[39mround\u001b[39m\u001b[39m'\u001b[39m: round_num}\n\u001b[0;32m---> 72\u001b[0m \u001b[39mreturn\u001b[39;00m \u001b[39mself\u001b[39;49m\u001b[39m.\u001b[39;49mraw_query(query, args)[\u001b[39m'\u001b[39;49m\u001b[39mdata\u001b[39;49m\u001b[39m'\u001b[39;49m][\u001b[39m'\u001b[39m\u001b[39mlistDatasets\u001b[39m\u001b[39m'\u001b[39m]\n",
      "\u001b[0;31mKeyError\u001b[0m: 'data'"
     ]
    }
   ],
   "source": [
    "# Initialize NumerAPI - the official Python API client for Numerai\n",
    "from numerapi import NumerAPI\n",
    "napi = NumerAPI()\n",
    "\n",
    "# Print all files available for download in the latest v4.1 dataset\n",
    "[f for f in napi.list_datasets() if f.startswith(\"v4.1\")]"
   ]
  },
  {
   "cell_type": "code",
   "execution_count": 4,
   "metadata": {},
   "outputs": [
    {
     "name": "stderr",
     "output_type": "stream",
     "text": [
      "2023-08-22 19:21:26,205 ERROR numerapi.utils: Error Connecting: HTTPSConnectionPool(host='api-tournament.numer.ai', port=443): Max retries exceeded with url: / (Caused by SSLError(SSLError(1, '[SSL: WRONG_VERSION_NUMBER] wrong version number (_ssl.c:1002)')))\n"
     ]
    },
    {
     "ename": "KeyError",
     "evalue": "'data'",
     "output_type": "error",
     "traceback": [
      "\u001b[0;31m---------------------------------------------------------------------------\u001b[0m",
      "\u001b[0;31mKeyError\u001b[0m                                  Traceback (most recent call last)",
      "Cell \u001b[0;32mIn[4], line 6\u001b[0m\n\u001b[1;32m      2\u001b[0m \u001b[39mimport\u001b[39;00m \u001b[39mjson\u001b[39;00m\n\u001b[1;32m      4\u001b[0m \u001b[39m# Download the training data and feature metadata\u001b[39;00m\n\u001b[1;32m      5\u001b[0m \u001b[39m# This may take a few minutes 🍵\u001b[39;00m\n\u001b[0;32m----> 6\u001b[0m napi\u001b[39m.\u001b[39;49mdownload_dataset(\u001b[39m\"\u001b[39;49m\u001b[39mv4.1/train.parquet\u001b[39;49m\u001b[39m\"\u001b[39;49m);\n\u001b[1;32m      7\u001b[0m napi\u001b[39m.\u001b[39mdownload_dataset(\u001b[39m\"\u001b[39m\u001b[39mv4.1/features.json\u001b[39m\u001b[39m\"\u001b[39m);\n\u001b[1;32m      9\u001b[0m \u001b[39m# Load the training data but only the \"small\" subset of features to save time and memory\u001b[39;00m\n\u001b[1;32m     10\u001b[0m \u001b[39m# In practice you will want to use all the features to maximize your model's performance\u001b[39;00m\n",
      "File \u001b[0;32m~/Documents/numerai/lib/python3.11/site-packages/numerapi/numerapi.py:113\u001b[0m, in \u001b[0;36mNumerAPI.download_dataset\u001b[0;34m(self, filename, dest_path, round_num)\u001b[0m\n\u001b[1;32m    104\u001b[0m query \u001b[39m=\u001b[39m \u001b[39m\"\"\"\u001b[39m\n\u001b[1;32m    105\u001b[0m \u001b[39mquery ($filename: String!\u001b[39m\n\u001b[1;32m    106\u001b[0m \u001b[39m       $round: Int) \u001b[39m\u001b[39m{\u001b[39m\n\u001b[0;32m   (...)\u001b[0m\n\u001b[1;32m    109\u001b[0m \u001b[39m}\u001b[39m\n\u001b[1;32m    110\u001b[0m \u001b[39m\u001b[39m\u001b[39m\"\"\"\u001b[39m\n\u001b[1;32m    111\u001b[0m args \u001b[39m=\u001b[39m {\u001b[39m'\u001b[39m\u001b[39mfilename\u001b[39m\u001b[39m'\u001b[39m: filename, \u001b[39m\"\u001b[39m\u001b[39mround\u001b[39m\u001b[39m\"\u001b[39m: round_num}\n\u001b[0;32m--> 113\u001b[0m dataset_url \u001b[39m=\u001b[39m \u001b[39mself\u001b[39;49m\u001b[39m.\u001b[39;49mraw_query(query, args)[\u001b[39m'\u001b[39;49m\u001b[39mdata\u001b[39;49m\u001b[39m'\u001b[39;49m][\u001b[39m'\u001b[39m\u001b[39mdataset\u001b[39m\u001b[39m'\u001b[39m]\n\u001b[1;32m    114\u001b[0m utils\u001b[39m.\u001b[39mdownload_file(dataset_url, dest_path, \u001b[39mself\u001b[39m\u001b[39m.\u001b[39mshow_progress_bars)\n\u001b[1;32m    115\u001b[0m \u001b[39mreturn\u001b[39;00m dest_path\n",
      "\u001b[0;31mKeyError\u001b[0m: 'data'"
     ]
    }
   ],
   "source": [
    "import pandas as pd\n",
    "import json\n",
    "\n",
    "# Download the training data and feature metadata\n",
    "# This may take a few minutes 🍵\n",
    "napi.download_dataset(\"v4.1/train.parquet\");\n",
    "napi.download_dataset(\"v4.1/features.json\");\n",
    "\n",
    "# Load the training data but only the \"small\" subset of features to save time and memory\n",
    "# In practice you will want to use all the features to maximize your model's performance\n",
    "feature_metadata = json.load(open(\"v4.1/features.json\")) \n",
    "feature_cols = feature_metadata[\"feature_sets\"][\"small\"]\n",
    "training_data = pd.read_parquet(\"v4.1/train.parquet\", columns= [\"era\"] + feature_cols + [\"target\"]) \n",
    "\n",
    "# Print the training data\n",
    "pd.set_option('display.max_rows', 10)\n",
    "pd.set_option('display.max_columns', 5)\n",
    "training_data"
   ]
  }
 ],
 "metadata": {
  "language_info": {
   "name": "python"
  },
  "orig_nbformat": 4
 },
 "nbformat": 4,
 "nbformat_minor": 2
}
